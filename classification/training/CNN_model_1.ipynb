{
 "cells": [
  {
   "cell_type": "markdown",
   "metadata": {},
   "source": [
    "# CNN_model_1_keras"
   ]
  },
  {
   "cell_type": "code",
   "execution_count": 1,
   "metadata": {},
   "outputs": [
    {
     "name": "stderr",
     "output_type": "stream",
     "text": [
      "Using TensorFlow backend.\n"
     ]
    }
   ],
   "source": [
    "import numpy as np\n",
    "import matplotlib.pyplot as plt\n",
    "import pandas as pd\n",
    "\n",
    "from keras import layers\n",
    "from keras.layers import Input, Dense, Activation, ZeroPadding2D, BatchNormalization, Flatten, Conv2D\n",
    "from keras.layers import AveragePooling2D, MaxPooling2D, Dropout, GlobalMaxPooling2D, GlobalAveragePooling2D\n",
    "from keras.models import Model, load_model\n",
    "from keras.preprocessing import image\n",
    "from keras.applications.imagenet_utils import preprocess_input\n",
    "from keras.optimizers import Adam"
   ]
  },
  {
   "cell_type": "markdown",
   "metadata": {},
   "source": [
    "## Load pixel data"
   ]
  },
  {
   "cell_type": "code",
   "execution_count": 34,
   "metadata": {},
   "outputs": [],
   "source": [
    "for i in range(400):\n",
    "    img = image.load_img(\"Data_trial/\" + str(i) + \".jpg\", target_size = (120, 160))\n",
    "    img_array = image.img_to_array(img)\n",
    "    if(i == 0):\n",
    "        X = np.zeros((400, img_array.shape[0], img_array.shape[1], img_array.shape[2]))\n",
    "    X[i] = img_array\n",
    "\n",
    "X = X/255.\n",
    "\n",
    "yvals = pd.read_excel('Data_trial/data_trial_new_new.xlsx',sheet_name = 'Sheet1',nrows = 400)\n",
    "y = yvals.values[:,1].reshape(yvals.values[:,1].shape[0],1) # y.shape = (400,1)\n",
    "Y = np.zeros((y.shape[0], 3))  # three classes, so Y for each example should be 3*1\n",
    "for i in range(y.shape[0]):\n",
    "    Y[i, int(y[i,0])] = 1\n",
    "\n",
    "X_train = X[0:300, :]\n",
    "Y_train = Y[0:300, :]\n",
    "X_test = X[300: 350, :]\n",
    "Y_test = Y[300: 350, :]\n",
    "X_dev = X[350: 400, :]\n",
    "Y_dev = Y[350: 400, :]"
   ]
  },
  {
   "cell_type": "code",
   "execution_count": 294,
   "metadata": {},
   "outputs": [
    {
     "name": "stdout",
     "output_type": "stream",
     "text": [
      "X_train shape: (300, 120, 160, 3)\n",
      "Y_train shape: (300, 3)\n",
      "X_dev shape: (50, 120, 160, 3)\n",
      "Y_dev shape: (50, 3)\n",
      "X_test shape: (50, 120, 160, 3)\n",
      "Y_test shape: (50, 3)\n"
     ]
    }
   ],
   "source": [
    "print (\"X_train shape: \" + str(X_train.shape))\n",
    "print (\"Y_train shape: \" + str(Y_train.shape))\n",
    "print (\"X_dev shape: \" + str(X_test.shape))\n",
    "print (\"Y_dev shape: \" + str(Y_test.shape))\n",
    "print (\"X_test shape: \" + str(X_test.shape))\n",
    "print (\"Y_test shape: \" + str(Y_test.shape))"
   ]
  },
  {
   "cell_type": "code",
   "execution_count": 12,
   "metadata": {},
   "outputs": [
    {
     "name": "stdout",
     "output_type": "stream",
     "text": [
      "[0. 1. 0.]\n"
     ]
    },
    {
     "data": {
      "image/png": "[encoded data removed]",
      "text/plain": [
       "<Figure size 432x288 with 1 Axes>"
      ]
     },
     "metadata": {},
     "output_type": "display_data"
    }
   ],
   "source": [
    "var = 0\n",
    "plt.imshow(X_dev[var])\n",
    "print(Y_dev[var])"
   ]
  },
  {
   "cell_type": "markdown",
   "metadata": {},
   "source": [
    "## Load DVS data"
   ]
  },
  {
   "cell_type": "code",
   "execution_count": 27,
   "metadata": {},
   "outputs": [],
   "source": [
    "for i in range(400):\n",
    "    img = image.load_img(\"Data_DVS/\" + str(i) + \".png\", target_size = (120, 160))\n",
    "    img_array = image.img_to_array(img)\n",
    "    if(i == 0):\n",
    "        X = np.zeros((400, img_array.shape[0], img_array.shape[1], img_array.shape[2]))\n",
    "    X[i] = img_array\n",
    "\n",
    "X = X/255.\n",
    "\n",
    "yvals = pd.read_excel('Data_trial/data_trial_DVS.xlsx',sheet_name = 'Sheet1',nrows = 400)\n",
    "y = yvals.values[:,1].reshape(yvals.values[:,1].shape[0],1) # y.shape = (400,1)\n",
    "Y = np.zeros((y.shape[0], 3))  # three classes, so Y for each example should be 3*1\n",
    "for i in range(y.shape[0]):\n",
    "    Y[i, int(y[i,0])] = 1\n",
    "\n",
    "X_train = X[0:300, :]\n",
    "Y_train = Y[0:300, :]\n",
    "X_test = X[300: 350, :]\n",
    "Y_test = Y[300: 350, :]\n",
    "X_dev = X[350: 400, :]\n",
    "Y_dev = Y[350: 400, :]"
   ]
  },
  {
   "cell_type": "code",
   "execution_count": 14,
   "metadata": {},
   "outputs": [
    {
     "name": "stdout",
     "output_type": "stream",
     "text": [
      "[0. 1. 0.]\n"
     ]
    },
    {
     "data": {
      "image/png": "[encoded data removed]",
      "text/plain": [
       "<Figure size 432x288 with 1 Axes>"
      ]
     },
     "metadata": {},
     "output_type": "display_data"
    }
   ],
   "source": [
    "var = 4\n",
    "plt.imshow(X_dev[var])\n",
    "print(Y_dev[var])"
   ]
  },
  {
   "cell_type": "markdown",
   "metadata": {},
   "source": [
    "## Define model"
   ]
  },
  {
   "cell_type": "code",
   "execution_count": 4,
   "metadata": {},
   "outputs": [],
   "source": [
    "def cnn_model_keras(input_shape, drop_prob):\n",
    "    \"\"\"\n",
    "    Using keras to quickly prototype.\n",
    "    \"\"\"\n",
    "    \n",
    "    # Define the input placeholder as a tensor with shape input_shape\n",
    "    X_input = Input(input_shape)\n",
    "    \n",
    "    # first layer: 3@60x80 -> 24@60x80\n",
    "    X = Conv2D(24, (5,5), strides = (2,2), padding='same', name = \"conv1\")(X_input)\n",
    "    X = Activation(\"relu\")(X)\n",
    "    X = Dropout(drop_prob, noise_shape=None, seed=None)(X)\n",
    "    \n",
    "    # max pooling: 24@60x80 -> 24@30x40\n",
    "    X = MaxPooling2D((2,2), strides = (2,2), padding='valid')(X)\n",
    "    \n",
    "    # second layer: 24@30x40 -> 36@30x40\n",
    "    X = Conv2D(36, (5,5), strides = (2,2), padding='same', name = \"conv2\")(X)\n",
    "    X = Activation(\"relu\")(X)\n",
    "    X = Dropout(drop_prob, noise_shape=None, seed=None)(X)\n",
    "    \n",
    "    # third layer: 36@30x40 -> 48@30x40\n",
    "    X = Conv2D(48, (5,5), strides = (1,1), padding='same', name = \"conv3\")(X)\n",
    "    X = Activation(\"relu\")(X)\n",
    "    X = Dropout(drop_prob, noise_shape=None, seed=None)(X)\n",
    "    \n",
    "    # flatten: 48@1x4 -> 57600\n",
    "    X = Flatten()(X)\n",
    "\n",
    "    # third layer: 57600 -> 64\n",
    "    X = Dense(64, activation='relu', name='fc1')(X)\n",
    "    \n",
    "    # fourth layer: 50 -> 3\n",
    "    X = Dense(3, activation='softmax', name='fc2')(X)\n",
    "    \n",
    "    \n",
    "    model = Model(inputs = X_input, outputs = X, name = \"NN_model_2_keras\")\n",
    "    \n",
    "    return model"
   ]
  },
  {
   "cell_type": "markdown",
   "metadata": {},
   "source": [
    "## Traing model"
   ]
  },
  {
   "cell_type": "code",
   "execution_count": 22,
   "metadata": {},
   "outputs": [
    {
     "name": "stdout",
     "output_type": "stream",
     "text": [
      "Epoch 1/10\n",
      "300/300 [==============================] - 3s 9ms/step - loss: 0.0248 - acc: 0.9900\n",
      "Epoch 2/10\n",
      "300/300 [==============================] - 3s 9ms/step - loss: 0.0272 - acc: 0.9900\n",
      "Epoch 3/10\n",
      "300/300 [==============================] - 3s 9ms/step - loss: 0.0150 - acc: 1.0000\n",
      "Epoch 4/10\n",
      "300/300 [==============================] - 3s 9ms/step - loss: 0.0211 - acc: 0.9933\n",
      "Epoch 5/10\n",
      "300/300 [==============================] - 3s 9ms/step - loss: 0.0370 - acc: 0.9867\n",
      "Epoch 6/10\n",
      "300/300 [==============================] - 3s 9ms/step - loss: 0.0087 - acc: 1.0000\n",
      "Epoch 7/10\n",
      "300/300 [==============================] - 3s 9ms/step - loss: 0.0232 - acc: 0.9867\n",
      "Epoch 8/10\n",
      "300/300 [==============================] - 3s 11ms/step - loss: 0.0101 - acc: 0.9967\n",
      "Epoch 9/10\n",
      "300/300 [==============================] - 3s 10ms/step - loss: 0.0142 - acc: 1.0000\n",
      "Epoch 10/10\n",
      "300/300 [==============================] - 3s 9ms/step - loss: 0.0111 - acc: 1.0000\n"
     ]
    },
    {
     "data": {
      "text/plain": [
       "<keras.callbacks.History at 0xb236af240>"
      ]
     },
     "execution_count": 22,
     "metadata": {},
     "output_type": "execute_result"
    }
   ],
   "source": [
    "# # create the model\n",
    "# cnn_model = cnn_model_keras(X_train[0].shape, drop_prob = 0.5)\n",
    "\n",
    "# # compile the model\n",
    "# cnn_model.compile(optimizer = \"adam\", loss = \"categorical_crossentropy\", metrics = [\"accuracy\"])\n",
    "\n",
    "# train the model\n",
    "cnn_model.fit(x = X_train, y = Y_train, epochs = 10, batch_size = 300)"
   ]
  },
  {
   "cell_type": "markdown",
   "metadata": {},
   "source": [
    "## Load model"
   ]
  },
  {
   "cell_type": "code",
   "execution_count": 35,
   "metadata": {},
   "outputs": [],
   "source": [
    "#cnn_model = load_model('cnn_model_1_pixel')\n",
    "#cnn_model = load_model('cnn_model_1_DVS')"
   ]
  },
  {
   "cell_type": "markdown",
   "metadata": {},
   "source": [
    "## Evaluate model"
   ]
  },
  {
   "cell_type": "code",
   "execution_count": 36,
   "metadata": {},
   "outputs": [
    {
     "name": "stdout",
     "output_type": "stream",
     "text": [
      "50/50 [==============================] - 0s 7ms/step\n",
      "\n",
      "Loss = 0.3985013127326965\n",
      "Dev Accuracy = 0.9000000023841858\n",
      "50/50 [==============================] - 0s 4ms/step\n",
      "\n",
      "Loss = 0.4902320492267609\n",
      "Test Accuracy = 0.8999999904632568\n"
     ]
    }
   ],
   "source": [
    "preds = cnn_model.evaluate(x = X_dev, y = Y_dev)\n",
    "print()\n",
    "print (\"Loss = \" + str(preds[0]))\n",
    "print (\"Dev Accuracy = \" + str(preds[1]))\n",
    "\n",
    "preds = cnn_model.evaluate(x = X_test, y = Y_test)\n",
    "print()\n",
    "print (\"Loss = \" + str(preds[0]))\n",
    "print (\"Test Accuracy = \" + str(preds[1]))\n",
    "#cnn_model.summary()"
   ]
  },
  {
   "cell_type": "markdown",
   "metadata": {},
   "source": [
    "## Error analysis"
   ]
  },
  {
   "cell_type": "code",
   "execution_count": 37,
   "metadata": {},
   "outputs": [
    {
     "name": "stdout",
     "output_type": "stream",
     "text": [
      "1/1 [==============================] - 0s 8ms/step\n",
      "1/1 [==============================] - 0s 4ms/step\n",
      "1/1 [==============================] - 0s 5ms/step\n",
      "1/1 [==============================] - 0s 5ms/step\n",
      "1/1 [==============================] - 0s 5ms/step\n",
      "1/1 [==============================] - 0s 5ms/step\n",
      "1/1 [==============================] - 0s 5ms/step\n",
      "1/1 [==============================] - 0s 6ms/step\n",
      "1/1 [==============================] - 0s 5ms/step\n",
      "1/1 [==============================] - 0s 8ms/step\n",
      "1/1 [==============================] - 0s 7ms/step\n",
      "1/1 [==============================] - 0s 7ms/step\n",
      "1/1 [==============================] - 0s 8ms/step\n",
      "1/1 [==============================] - 0s 5ms/step\n",
      "1/1 [==============================] - 0s 7ms/step\n",
      "1/1 [==============================] - 0s 5ms/step\n",
      "1/1 [==============================] - 0s 5ms/step\n",
      "1/1 [==============================] - 0s 6ms/step\n",
      "1/1 [==============================] - 0s 6ms/step\n",
      "1/1 [==============================] - 0s 6ms/step\n",
      "1/1 [==============================] - 0s 7ms/step\n",
      "1/1 [==============================] - 0s 5ms/step\n",
      "1/1 [==============================] - 0s 5ms/step\n",
      "1/1 [==============================] - 0s 5ms/step\n",
      "1/1 [==============================] - 0s 5ms/step\n",
      "1/1 [==============================] - 0s 5ms/step\n",
      "1/1 [==============================] - 0s 5ms/step\n",
      "1/1 [==============================] - 0s 11ms/step\n",
      "1/1 [==============================] - 0s 5ms/step\n",
      "1/1 [==============================] - 0s 5ms/step\n",
      "1/1 [==============================] - 0s 6ms/step\n",
      "1/1 [==============================] - 0s 9ms/step\n",
      "1/1 [==============================] - 0s 4ms/step\n",
      "1/1 [==============================] - 0s 6ms/step\n",
      "1/1 [==============================] - 0s 6ms/step\n",
      "1/1 [==============================] - 0s 6ms/step\n",
      "1/1 [==============================] - 0s 6ms/step\n",
      "1/1 [==============================] - 0s 13ms/step\n",
      "1/1 [==============================] - 0s 6ms/step\n",
      "1/1 [==============================] - 0s 6ms/step\n",
      "1/1 [==============================] - 0s 9ms/step\n",
      "1/1 [==============================] - 0s 6ms/step\n",
      "1/1 [==============================] - 0s 7ms/step\n",
      "1/1 [==============================] - 0s 6ms/step\n",
      "1/1 [==============================] - 0s 8ms/step\n",
      "1/1 [==============================] - 0s 5ms/step\n",
      "1/1 [==============================] - 0s 7ms/step\n",
      "1/1 [==============================] - 0s 7ms/step\n",
      "1/1 [==============================] - 0s 9ms/step\n",
      "1/1 [==============================] - 0s 11ms/step\n",
      "index: 300\n",
      "predicted: [[0. 0. 1.]]\n",
      "correct: [1. 0. 0.]\n",
      "index: 316\n",
      "predicted: [[0. 1. 0.]]\n",
      "correct: [1. 0. 0.]\n",
      "index: 318\n",
      "predicted: [[0. 1. 0.]]\n",
      "correct: [1. 0. 0.]\n",
      "index: 331\n",
      "predicted: [[0. 0. 1.]]\n",
      "correct: [1. 0. 0.]\n",
      "index: 347\n",
      "predicted: [[0. 1. 0.]]\n",
      "correct: [0. 0. 1.]\n"
     ]
    }
   ],
   "source": [
    "errors = []\n",
    "for i in range(50):\n",
    "    pred = cnn_model.evaluate(x = X_test[i:i+1], y = Y_test[i:i+1])\n",
    "    if(pred[1] < 1):\n",
    "        y_pred = cnn_model.predict(X_test[i:i+1])\n",
    "        max_prob = np.amax(y_pred)\n",
    "        y_pred[y_pred == max_prob] = 1\n",
    "        y_pred[y_pred < max_prob] = 0\n",
    "        errors.append((i, y_pred))\n",
    "\n",
    "for i in range(len(errors)):\n",
    "    print(\"index: \" + str(300 + errors[i][0]))\n",
    "    print(\"predicted: \" + str(errors[i][1]))\n",
    "    print(\"correct: \" + str(Y_test[errors[i][0]]))"
   ]
  },
  {
   "cell_type": "code",
   "execution_count": 29,
   "metadata": {},
   "outputs": [],
   "source": [
    "cnn_model.save('cnn_model_1_DVS')"
   ]
  },
  {
   "cell_type": "code",
   "execution_count": null,
   "metadata": {},
   "outputs": [],
   "source": []
  }
 ],
 "metadata": {
  "kernelspec": {
   "display_name": "Python 3",
   "language": "python",
   "name": "python3"
  },
  "language_info": {
   "codemirror_mode": {
    "name": "ipython",
    "version": 3
   },
   "file_extension": ".py",
   "mimetype": "text/x-python",
   "name": "python",
   "nbconvert_exporter": "python",
   "pygments_lexer": "ipython3",
   "version": "3.6.5"
  }
 },
 "nbformat": 4,
 "nbformat_minor": 2
}
