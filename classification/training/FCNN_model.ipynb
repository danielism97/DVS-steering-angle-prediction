{
 "cells": [
  {
   "cell_type": "markdown",
   "metadata": {},
   "source": [
    "# Deep Neural Network for Steering Direction Classification\n",
    "\n",
    "## Building Blocks:\n",
    "1. Importing packages\n",
    "2. Loading and preprocessing data\n",
    "3. Functions\n",
    "\n",
    "| Function name | Parameters | Output | Description |\n",
    "|:------------- | ---------- | ------ | -----------:|\n",
    "| initialise_params | List: layers_dims | Dict: parameters | initialise parameters w and b according to g[l]|\n",
    "| forward | Array: A_prev <br> Array: W <br> Array: b <br> String: activation | Array: A <br> Tuple: cache | compute activation output for each layer |\n",
    "| forward_propagation | Array: X<br>Dict: parameters | Array: AL<br>Tuple: caches | forward propagate |\n",
    "| compute_cost | Array: AL<br>Array: Y | Float: cost | compute cost |\n",
    "| backward | Array: dA<br>Tuple: cache<br>String: activation | Array: dA_prev<br>Array: dW<br>Array: db | compute gradients for each layer |\n",
    "| backward_propagation | Array: AL<br>Array: Y<br>Tuple: caches | Dict: grads | backward propagation |\n",
    "| update_parameters | Dict: parameters<br>Dict: grads<br>Float: learning_rate | Dict: parameters | update parameters |\n",
    "   "
   ]
  },
  {
   "cell_type": "markdown",
   "metadata": {},
   "source": [
    "## Importing packages"
   ]
  },
  {
   "cell_type": "code",
   "execution_count": 2,
   "metadata": {},
   "outputs": [
    {
     "name": "stderr",
     "output_type": "stream",
     "text": [
      "Using TensorFlow backend.\n"
     ]
    }
   ],
   "source": [
    "import numpy as np\n",
    "import pandas as pd\n",
    "import matplotlib.pyplot as plt\n",
    "from PIL import Image\n",
    "from sklearn.model_selection import train_test_split\n",
    "from keras.preprocessing import image"
   ]
  },
  {
   "cell_type": "markdown",
   "metadata": {},
   "source": [
    "## Loading and preprocessing pixel data"
   ]
  },
  {
   "cell_type": "code",
   "execution_count": 1,
   "metadata": {},
   "outputs": [
    {
     "ename": "NameError",
     "evalue": "name 'image' is not defined",
     "output_type": "error",
     "traceback": [
      "\u001b[0;31m---------------------------------------------------------------------------\u001b[0m",
      "\u001b[0;31mNameError\u001b[0m                                 Traceback (most recent call last)",
      "\u001b[0;32m<ipython-input-1-70cc1540ddb6>\u001b[0m in \u001b[0;36m<module>\u001b[0;34m()\u001b[0m\n\u001b[1;32m      1\u001b[0m \u001b[0;32mfor\u001b[0m \u001b[0mi\u001b[0m \u001b[0;32min\u001b[0m \u001b[0mrange\u001b[0m\u001b[0;34m(\u001b[0m\u001b[0;36m400\u001b[0m\u001b[0;34m)\u001b[0m\u001b[0;34m:\u001b[0m\u001b[0;34m\u001b[0m\u001b[0m\n\u001b[0;32m----> 2\u001b[0;31m     \u001b[0mimg\u001b[0m \u001b[0;34m=\u001b[0m \u001b[0mimage\u001b[0m\u001b[0;34m.\u001b[0m\u001b[0mload_img\u001b[0m\u001b[0;34m(\u001b[0m\u001b[0;34m\"Data_trial/\"\u001b[0m \u001b[0;34m+\u001b[0m \u001b[0mstr\u001b[0m\u001b[0;34m(\u001b[0m\u001b[0mi\u001b[0m\u001b[0;34m)\u001b[0m \u001b[0;34m+\u001b[0m \u001b[0;34m\"_crop.jpg\"\u001b[0m\u001b[0;34m,\u001b[0m \u001b[0mtarget_size\u001b[0m \u001b[0;34m=\u001b[0m \u001b[0;34m(\u001b[0m\u001b[0;36m60\u001b[0m\u001b[0;34m,\u001b[0m \u001b[0;36m80\u001b[0m\u001b[0;34m)\u001b[0m\u001b[0;34m)\u001b[0m\u001b[0;34m\u001b[0m\u001b[0m\n\u001b[0m\u001b[1;32m      3\u001b[0m     \u001b[0mimg_array\u001b[0m \u001b[0;34m=\u001b[0m \u001b[0mimage\u001b[0m\u001b[0;34m.\u001b[0m\u001b[0mimg_to_array\u001b[0m\u001b[0;34m(\u001b[0m\u001b[0mimg\u001b[0m\u001b[0;34m)\u001b[0m\u001b[0;34m\u001b[0m\u001b[0m\n\u001b[1;32m      4\u001b[0m     \u001b[0mimage_flat\u001b[0m \u001b[0;34m=\u001b[0m \u001b[0mimg_array\u001b[0m\u001b[0;34m.\u001b[0m\u001b[0mreshape\u001b[0m\u001b[0;34m(\u001b[0m\u001b[0mimg_array\u001b[0m\u001b[0;34m.\u001b[0m\u001b[0mshape\u001b[0m\u001b[0;34m[\u001b[0m\u001b[0;36m0\u001b[0m\u001b[0;34m]\u001b[0m\u001b[0;34m*\u001b[0m\u001b[0mimg_array\u001b[0m\u001b[0;34m.\u001b[0m\u001b[0mshape\u001b[0m\u001b[0;34m[\u001b[0m\u001b[0;36m1\u001b[0m\u001b[0;34m]\u001b[0m\u001b[0;34m*\u001b[0m\u001b[0mimg_array\u001b[0m\u001b[0;34m.\u001b[0m\u001b[0mshape\u001b[0m\u001b[0;34m[\u001b[0m\u001b[0;36m2\u001b[0m\u001b[0;34m]\u001b[0m\u001b[0;34m,\u001b[0m\u001b[0;36m1\u001b[0m\u001b[0;34m)\u001b[0m\u001b[0;34m\u001b[0m\u001b[0m\n\u001b[1;32m      5\u001b[0m     \u001b[0;32mif\u001b[0m\u001b[0;34m(\u001b[0m\u001b[0mi\u001b[0m \u001b[0;34m==\u001b[0m \u001b[0;36m0\u001b[0m\u001b[0;34m)\u001b[0m\u001b[0;34m:\u001b[0m\u001b[0;34m\u001b[0m\u001b[0m\n",
      "\u001b[0;31mNameError\u001b[0m: name 'image' is not defined"
     ]
    }
   ],
   "source": [
    "for i in range(400):\n",
    "    img = image.load_img(\"Data_trial/\" + str(i) + \"_crop.jpg\", target_size = (60, 80))\n",
    "    img_array = image.img_to_array(img)\n",
    "    image_flat = img_array.reshape(img_array.shape[0]*img_array.shape[1]*img_array.shape[2],1)\n",
    "    if(i == 0):\n",
    "        X = np.zeros((img_array.shape[0]*img_array.shape[1]*img_array.shape[2],400))\n",
    "    X[:,i] = image_flat[:,0] \n",
    "\n",
    "X = X/255.\n",
    "\n",
    "yvals = pd.read_excel('Data_trial/data_trial.xlsx',sheet_name = 'Sheet1',nrows = 400)\n",
    "y = yvals.values[:,1].reshape(yvals.values[:,1].shape[0],1).T # y.shape = (1,400)\n",
    "Y = np.zeros((3, y.shape[1]))  # three classes, so Y for each example should be 3*1\n",
    "for i in range(y.shape[1]):\n",
    "    Y[int(y[0,i]),i] = 1\n",
    "\n",
    "X_train = X[:, 0:320]\n",
    "Y_train = Y[:, 0:320]\n",
    "X_dev = X[:, 320: 360]\n",
    "Y_dev = Y[:, 320: 360]\n",
    "X_test = X[:, 360: 400]\n",
    "Y_test = Y[:, 360: 400]"
   ]
  },
  {
   "cell_type": "code",
   "execution_count": 5,
   "metadata": {},
   "outputs": [
    {
     "data": {
      "text/plain": [
       "<matplotlib.image.AxesImage at 0x1196bd710>"
      ]
     },
     "execution_count": 5,
     "metadata": {},
     "output_type": "execute_result"
    },
    {
     "data": {
      "image/png": "[encoded data removed]",
      "text/plain": [
       "<Figure size 432x288 with 1 Axes>"
      ]
     },
     "metadata": {},
     "output_type": "display_data"
    }
   ],
   "source": [
    "plt.imshow(X_dev[:, 1].reshape(60,80,3))"
   ]
  },
  {
   "cell_type": "markdown",
   "metadata": {},
   "source": [
    "## Loading and preprocessing DVS data"
   ]
  },
  {
   "cell_type": "code",
   "execution_count": 75,
   "metadata": {},
   "outputs": [],
   "source": [
    "for i in range(400):\n",
    "    img = image.load_img(\"Data_DVS/\" + str(i) + \".png\", target_size = (60, 80))\n",
    "    img_array = image.img_to_array(img)\n",
    "    image_flat = img_array.reshape(img_array.shape[0]*img_array.shape[1]*img_array.shape[2],1)\n",
    "    if(i == 0):\n",
    "        X = np.zeros((img_array.shape[0]*img_array.shape[1]*img_array.shape[2],400))\n",
    "    X[:,i] = image_flat[:,0] \n",
    "\n",
    "X = X/255.\n",
    "\n",
    "yvals = pd.read_excel('Data_trial/data_trial.xlsx',sheet_name = 'Sheet1',nrows = 400)\n",
    "y = yvals.values[:,1].reshape(yvals.values[:,1].shape[0],1).T # y.shape = (1,400)\n",
    "Y = np.zeros((3, y.shape[1]))  # three classes, so Y for each example should be 3*1\n",
    "for i in range(y.shape[1]):\n",
    "    Y[int(y[0,i]),i] = 1\n",
    "\n",
    "X_train = X[:, 0:100]\n",
    "Y_train = Y[:, 0:100]\n",
    "X_dev = X[:, 320: 360]\n",
    "Y_dev = Y[:, 320: 360]\n",
    "X_test = X[:, 360: 400]\n",
    "Y_test = Y[:, 360: 400]"
   ]
  },
  {
   "cell_type": "code",
   "execution_count": 74,
   "metadata": {},
   "outputs": [
    {
     "data": {
      "text/plain": [
       "<matplotlib.image.AxesImage at 0x115aa7eb8>"
      ]
     },
     "execution_count": 74,
     "metadata": {},
     "output_type": "execute_result"
    },
    {
     "data": {
      "image/png": "[encoded data removed]",
      "text/plain": [
       "<Figure size 432x288 with 1 Axes>"
      ]
     },
     "metadata": {},
     "output_type": "display_data"
    }
   ],
   "source": [
    "plt.imshow(X_dev[:, 5].reshape(60,80,3))"
   ]
  },
  {
   "cell_type": "markdown",
   "metadata": {},
   "source": [
    "## Function: initialising_parameters"
   ]
  },
  {
   "cell_type": "code",
   "execution_count": 6,
   "metadata": {},
   "outputs": [],
   "source": [
    "def initialise_parameters(layers_dims):\n",
    "    \"\"\"\n",
    "    This function initialises parameters using modified Xavier's initialisation technique\n",
    "    \"\"\"\n",
    "    parameters = {}\n",
    "    \n",
    "    L = len(layers_dims) - 1 #number of layers\n",
    "    for l in range(1, L+1):\n",
    "        parameters[\"W\" + str(l)] = np.random.randn(layers_dims[l], layers_dims[l-1]) * np.sqrt(2./layers_dims[l-1])\n",
    "        parameters[\"b\" + str(l)] = np.zeros((layers_dims[l],1))\n",
    "    \n",
    "    return parameters"
   ]
  },
  {
   "cell_type": "markdown",
   "metadata": {},
   "source": [
    "## Function: forward"
   ]
  },
  {
   "cell_type": "code",
   "execution_count": 7,
   "metadata": {},
   "outputs": [],
   "source": [
    "def forward(A_prev, W, b, activation, keep_prob):\n",
    "    \"\"\"\n",
    "    This function computes linear + activation for a single layer and adds dropout regularisation. \n",
    "    To be used for forward propagation with dropout\n",
    "    \"\"\"\n",
    "    \n",
    "    Z = np.dot(W, A_prev) + b  # linear part\n",
    "    \n",
    "    if(activation == \"relu\"):\n",
    "        A = np.maximum(Z, 0)  # implementing relu activation\n",
    "    elif(activation == \"tanh\"):\n",
    "        A = np.tanh(Z)  # implementing tanh activation\n",
    "    elif(activation == \"sigmoid\"):\n",
    "        A = 1./(1+np.exp(-Z))  # implementing sigmoid activation\n",
    "        \n",
    "    # now add dropout\n",
    "    D = np.random.rand(A.shape[0],A.shape[1])\n",
    "    D = D < keep_prob\n",
    "    A = A * D\n",
    "    A = A / keep_prob\n",
    "    \n",
    "    assert(Z.shape == (W.shape[0], A_prev.shape[1]))\n",
    "    assert(A.shape == Z.shape)\n",
    "    \n",
    "    cache = (A_prev, W, b, Z, D)\n",
    "    \n",
    "    return A, cache"
   ]
  },
  {
   "cell_type": "markdown",
   "metadata": {},
   "source": [
    "## Function: forward_propagation"
   ]
  },
  {
   "cell_type": "code",
   "execution_count": 8,
   "metadata": {},
   "outputs": [],
   "source": [
    "def forward_propagation(X, parameters, keep_prob):\n",
    "    \"\"\"\n",
    "    This function performs forward propagation to compute predicted final output with drop out implemented. \n",
    "    Activations for all nodes before output layer is relu, and output activation is sigmoid (one-vs-all)\n",
    "    \"\"\"\n",
    "    \n",
    "    L = len(parameters) // 2  # number of layers\n",
    "    A = X\n",
    "    caches = []\n",
    "    \n",
    "    for l in range(1, L):\n",
    "        A_prev = A  # output of layer l is input for layer l+1\n",
    "        A, cache = forward(A_prev, parameters[\"W\"+str(l)], parameters['b'+str(l)], \"relu\", keep_prob)\n",
    "        caches.append(cache)  # storing all A, W, b and Z for later use in backprop\n",
    "        \n",
    "    AL, cache = forward(A, parameters[\"W\"+str(L)], parameters['b'+str(L)], \"sigmoid\", keep_prob)\n",
    "    caches.append(cache)\n",
    "      # output of layer L, predictions\n",
    "    \n",
    "    return AL, caches"
   ]
  },
  {
   "cell_type": "markdown",
   "metadata": {},
   "source": [
    "## Function: compute_cost\n",
    "**formula:**\n",
    "$$-\\frac{1}{m} \\sum\\limits_{i = 1}^{m} (y^{(i)}\\log\\left(a^{[L] (i)}\\right) + (1-y^{(i)})\\log\\left(1- a^{[L](i)}\\right)) $$"
   ]
  },
  {
   "cell_type": "code",
   "execution_count": 9,
   "metadata": {},
   "outputs": [],
   "source": [
    "def compute_cost(AL, Y):\n",
    "    \"\"\"\n",
    "    This function computes cost for examples using above formula\n",
    "    \n",
    "    Output J should be of shape (1, m)\n",
    "    \"\"\"\n",
    "    \n",
    "    m = Y.shape[1]  # number of examples\n",
    "    num_labels = Y.shape[0]  # number of labels\n",
    "    cost = 0.\n",
    "    \n",
    "    for k in range(num_labels):\n",
    "        cost += (-1/m) * (np.dot(Y[k,:], np.log(AL[k,:].T)) + np.dot((1-Y[k,:]), np.log(1-AL[k,:].T)))\n",
    "    \n",
    "    return cost"
   ]
  },
  {
   "cell_type": "markdown",
   "metadata": {},
   "source": [
    "## Function: compute_cost_with_L2\n",
    "**formula:**\n",
    "$$J_{regularized} = \\small \\underbrace{-\\frac{1}{m} \\sum\\limits_{i = 1}^{m} \\large{(}\\small y^{(i)}\\log\\left(a^{[L](i)}\\right) + (1-y^{(i)})\\log\\left(1- a^{[L](i)}\\right) \\large{)} }_\\text{cross-entropy cost} + \\underbrace{\\frac{1}{m} \\frac{\\lambda}{2} \\sum\\limits_l\\sum\\limits_k\\sum\\limits_j W_{k,j}^{[l]2} }_\\text{L2 regularization cost} \\tag{2}$$"
   ]
  },
  {
   "cell_type": "code",
   "execution_count": 10,
   "metadata": {},
   "outputs": [],
   "source": [
    "def compute_cost_with_L2(AL, Y, parameters, lambd):\n",
    "    \"\"\"\n",
    "    Implement the cost function with L2 regularization. See formula (2) above.\n",
    "    \n",
    "    Arguments:\n",
    "    A3 -- post-activation, output of forward propagation, of shape (output size, number of examples)\n",
    "    Y -- \"true\" labels vector, of shape (output size, number of examples)\n",
    "    parameters -- python dictionary containing parameters of the model\n",
    "    \n",
    "    Returns:\n",
    "    cost - value of the regularized loss function (formula (2))\n",
    "    \"\"\"\n",
    "    \n",
    "    m = Y.shape[1]\n",
    "    L = len(parameters) // 2\n",
    "    \n",
    "    cross_entropy_cost = compute_cost(AL, Y)\n",
    "    \n",
    "    L2_cost = 0\n",
    "    for l in range(1, L + 1):\n",
    "        L2_cost += np.sum(np.square(parameters[\"W\" + str(l)]))\n",
    "                \n",
    "    L2_cost = (1/m) * (lambd/2) * L2_cost \n",
    "                       \n",
    "    cost = cross_entropy_cost + L2_cost\n",
    "\n",
    "    return cost                      "
   ]
  },
  {
   "cell_type": "markdown",
   "metadata": {},
   "source": [
    "## Function: backward"
   ]
  },
  {
   "cell_type": "code",
   "execution_count": 11,
   "metadata": {},
   "outputs": [],
   "source": [
    "def backward(dA, cache, cache_prev, activation, keep_prob, lambd):\n",
    "    \"\"\"\n",
    "    This function computes dW and db and other derivatives for backward prop of a single layer\n",
    "    \"\"\"\n",
    "    \n",
    "    A_prev, W, b, Z, _ = cache  # retrieving variables for computing derivatives\n",
    "    _, __, ___, ____, D_prev = cache_prev\n",
    "    \n",
    "    m = A_prev.shape[1]  # number of examples\n",
    "    \n",
    "    if(activation == \"relu\"):\n",
    "        relu_derivative_Z = np.copy(Z)\n",
    "        relu_derivative_Z[relu_derivative_Z > 0] = 1\n",
    "        relu_derivative_Z[relu_derivative_Z <= 0] = 0\n",
    "        dZ = dA * relu_derivative_Z\n",
    "    elif(activation == \"tanh\"):\n",
    "        A = np.tanh(Z)\n",
    "        dZ = dA * (1 - np.square(A))\n",
    "    elif(activation == \"sigmoid\"):\n",
    "        A = 1./(1+np.exp(-Z))\n",
    "        dZ = dA * (A * (1-A))\n",
    "    \n",
    "    dW = 1/m * np.dot(dZ, A_prev.T) + lambd/m * W\n",
    "    db = 1/m * np.sum(dZ, axis = 1, keepdims = True)\n",
    "    dA_prev = np.dot(W.T, dZ)\n",
    "    \n",
    "    ## Add dropout here\n",
    "    dA_prev = dA_prev * D_prev\n",
    "    dA_prev = dA_prev / keep_prob\n",
    "    \n",
    "    assert(dW.shape == W.shape)\n",
    "    assert(db.shape == (W.shape[0],1))\n",
    "    assert(dA_prev.shape == A_prev.shape)\n",
    "    \n",
    "    return dA_prev, dW, db"
   ]
  },
  {
   "cell_type": "markdown",
   "metadata": {},
   "source": [
    "## Function: backward_propagation"
   ]
  },
  {
   "cell_type": "code",
   "execution_count": 12,
   "metadata": {},
   "outputs": [],
   "source": [
    "def backward_propagation(AL, Y, caches, keep_prob, lambd):\n",
    "    \"\"\"\n",
    "    This function performs backward propagation and returns values of all gradients w.r.t W and b\n",
    "    \"\"\"\n",
    "    \n",
    "    grads = {}\n",
    "    L = len(caches)  # each element of List caches is a tuple cache for each layer\n",
    "    \n",
    "    # back propagation for the last layer, with sigmoid activation\n",
    "    dAL =  - (np.divide(Y, AL) - np.divide(1 - Y, 1 - AL))  # compute dAL for output layer\n",
    "    dA_prev, dW, db = backward(dAL, caches[L-1], caches[L-2], \"sigmoid\", keep_prob, lambd)\n",
    "    grads[\"dA\"+str(L-1)] = dA_prev\n",
    "    grads[\"dW\"+str(L)] = dW\n",
    "    grads[\"db\"+str(L)] = db\n",
    "    \n",
    "    # back propagation for previous layers except the first, for which there was not dropout\n",
    "    for l in reversed(range(2, L)):\n",
    "        dA = dA_prev\n",
    "        dA_prev, dW, db = backward(dA, caches[l-1], caches[l-2], \"relu\", keep_prob, lambd)\n",
    "        grads[\"dA\"+str(l-1)] = dA_prev\n",
    "        grads[\"dW\"+str(l)] = dW\n",
    "        grads[\"db\"+str(l)] = db\n",
    "    \n",
    "    dA = dA_prev\n",
    "    D0 = np.ones((caches[0][0].shape))\n",
    "    dA_prev, dW, db = backward(dA, caches[0], (0,0,0,0,D0) , \"relu\", keep_prob = 1, lambd = lambd)\n",
    "    grads[\"dA\"+str(0)] = dA_prev\n",
    "    grads[\"dW\"+str(1)] = dW\n",
    "    grads[\"db\"+str(1)] = db\n",
    "    \n",
    "    \n",
    "    return grads"
   ]
  },
  {
   "cell_type": "markdown",
   "metadata": {},
   "source": [
    "## Function: initialise_adam"
   ]
  },
  {
   "cell_type": "code",
   "execution_count": 13,
   "metadata": {},
   "outputs": [],
   "source": [
    "def initialise_adam(parameters) :\n",
    "    \"\"\"\n",
    "    Initializes v and s as two python dictionaries with:\n",
    "                - keys: \"dW1\", \"db1\", ..., \"dWL\", \"dbL\" \n",
    "                - values: numpy arrays of zeros of the same shape as the corresponding gradients/parameters.\n",
    "    \n",
    "    Arguments:\n",
    "    parameters -- python dictionary containing your parameters.\n",
    "                    parameters[\"W\" + str(l)] = Wl\n",
    "                    parameters[\"b\" + str(l)] = bl\n",
    "    \n",
    "    Returns: \n",
    "    v -- python dictionary that will contain the exponentially weighted average of the gradient.\n",
    "                    v[\"dW\" + str(l)] = ...\n",
    "                    v[\"db\" + str(l)] = ...\n",
    "    s -- python dictionary that will contain the exponentially weighted average of the squared gradient.\n",
    "                    s[\"dW\" + str(l)] = ...\n",
    "                    s[\"db\" + str(l)] = ...\n",
    "\n",
    "    \"\"\"\n",
    "    \n",
    "    L = len(parameters) // 2 # number of layers in the neural networks\n",
    "    v = {}\n",
    "    s = {}\n",
    "    \n",
    "    # Initialize v, s. Input: \"parameters\". Outputs: \"v, s\".\n",
    "    for l in range(L):\n",
    "    ### START CODE HERE ### (approx. 4 lines)\n",
    "        v[\"dW\" + str(l+1)] = np.zeros((parameters[\"W\"+str(l+1)].shape[0],parameters[\"W\"+str(l+1)].shape[1]))\n",
    "        v[\"db\" + str(l+1)] = np.zeros((parameters[\"b\"+str(l+1)].shape[0],parameters[\"b\"+str(l+1)].shape[1]))\n",
    "        s[\"dW\" + str(l+1)] = np.zeros((parameters[\"W\"+str(l+1)].shape[0],parameters[\"W\"+str(l+1)].shape[1]))\n",
    "        s[\"db\" + str(l+1)] = np.zeros((parameters[\"b\"+str(l+1)].shape[0],parameters[\"b\"+str(l+1)].shape[1]))\n",
    "    ### END CODE HERE ###\n",
    "    \n",
    "    return v, s"
   ]
  },
  {
   "cell_type": "markdown",
   "metadata": {},
   "source": [
    "## Function: update_parameters_with_adam"
   ]
  },
  {
   "cell_type": "code",
   "execution_count": 14,
   "metadata": {},
   "outputs": [],
   "source": [
    "def update_parameters_with_adam(parameters, grads,  v, s, t, learning_rate, \n",
    "                                beta1 = 0.9, beta2 = 0.999,  epsilon = 1e-8):\n",
    "    \"\"\"\n",
    "    parameters -- python dictionary containing your parameters:\n",
    "                    parameters['W' + str(l)] = Wl\n",
    "                    parameters['b' + str(l)] = bl\n",
    "    grads -- python dictionary containing your gradients for each parameters:\n",
    "                    grads['dW' + str(l)] = dWl\n",
    "                    grads['db' + str(l)] = dbl\n",
    "    v -- Adam variable, moving average of the first gradient, python dictionary\n",
    "    s -- Adam variable, moving average of the squared gradient, python dictionary\n",
    "    learning_rate -- the learning rate, scalar.\n",
    "    beta1 -- Exponential decay hyperparameter for the first moment estimates \n",
    "    beta2 -- Exponential decay hyperparameter for the second moment estimates \n",
    "    epsilon -- hyperparameter preventing division by zero in Adam updates\n",
    "\n",
    "    Returns:\n",
    "    parameters -- python dictionary containing your updated parameters \n",
    "    v -- Adam variable, moving average of the first gradient, python dictionary\n",
    "    s -- Adam variable, moving average of the squared gradient, python dictionary\n",
    "    \"\"\"\n",
    "    \n",
    "    L = len(parameters) // 2  # number of layers\n",
    "    v_corrected = {}                         # Initializing first moment estimate, python dictionary\n",
    "    s_corrected = {}                         # Initializing second moment estimate, python dictionary\n",
    "    \n",
    "    for l in range(L):\n",
    "        # Moving average of the gradients. Inputs: \"v, grads, beta1\". Output: \"v\".\n",
    "        v[\"dW\" + str(l+1)] = beta1 * v[\"dW\" + str(l+1)] + (1-beta1) * grads[\"dW\" + str(l+1)]\n",
    "        v[\"db\" + str(l+1)] = beta1 * v[\"db\" + str(l+1)] + (1-beta1) * grads[\"db\" + str(l+1)]\n",
    "\n",
    "        # Compute bias-corrected first moment estimate. Inputs: \"v, beta1, t\". Output: \"v_corrected\".\n",
    "        v_corrected[\"dW\" + str(l+1)] = v[\"dW\" + str(l+1)] / (1 - beta1**t)\n",
    "        v_corrected[\"db\" + str(l+1)] = v[\"db\" + str(l+1)] / (1 - beta1**t)\n",
    "\n",
    "        # Moving average of the squared gradients. Inputs: \"s, grads, beta2\". Output: \"s\".\n",
    "#         s[\"dW\" + str(l+1)] = beta2 * s[\"dW\" + str(l+1)] + (1-beta2) * np.square(grads[\"dW\" + str(l+1)])\n",
    "#         s[\"db\" + str(l+1)] = beta2 * s[\"db\" + str(l+1)] + (1-beta2) * np.square(grads[\"db\" + str(l+1)])\n",
    "\n",
    "#         # Compute bias-corrected second raw moment estimate. Inputs: \"s, beta2, t\". Output: \"s_corrected\".\n",
    "#         s_corrected[\"dW\" + str(l+1)] = s[\"dW\" + str(l+1)] / (1 - beta2**t)\n",
    "#         s_corrected[\"db\" + str(l+1)] = s[\"db\" + str(l+1)] / (1 - beta2**t)\n",
    "\n",
    "        # Update parameters. Inputs: \"parameters, learning_rate, v_corrected, s_corrected, epsilon\". Output: \"parameters\".\n",
    "        parameters[\"W\" + str(l+1)] = parameters[\"W\" + str(l+1)] - learning_rate * v_corrected[\"dW\" + str(l+1)]# / (np.sqrt(s_corrected[\"dW\" + str(l+1)]) + epsilon)\n",
    "        parameters[\"b\" + str(l+1)] = parameters[\"b\" + str(l+1)] - learning_rate * v_corrected[\"db\" + str(l+1)]# / (np.sqrt(s_corrected[\"db\" + str(l+1)]) + epsilon)\n",
    "        \n",
    "    return parameters, v, s"
   ]
  },
  {
   "cell_type": "markdown",
   "metadata": {},
   "source": [
    "## Model 1"
   ]
  },
  {
   "cell_type": "code",
   "execution_count": 15,
   "metadata": {},
   "outputs": [],
   "source": [
    "def NN_model_1(X, Y, layers_dims, learning_rate, num_epochs = 1000, print_cost = True, keep_prob = 1, lambd = 0.7):\n",
    "    \"\"\"\n",
    "    This is the first deep learning model. \n",
    "    \"\"\"\n",
    "    \n",
    "    costs = [];\n",
    "    \n",
    "    #initialise paramters\n",
    "    parameters = initialise_parameters(layers_dims)\n",
    "    v, s = initialise_adam(parameters)\n",
    "    \n",
    "    #implement batch gradient descent\n",
    "    for i in range(0, num_epochs):\n",
    "        #forward propagation\n",
    "        AL, caches = forward_propagation(X, parameters, keep_prob)\n",
    "\n",
    "        #compute costs\n",
    "        cost = compute_cost_with_L2(AL, Y, parameters, lambd)\n",
    "        \n",
    "        #backward propagation\n",
    "        grads = backward_propagation(AL, Y, caches, keep_prob, lambd)\n",
    "        \n",
    "        #update parameters\n",
    "        parameters, v, s = update_parameters_with_adam(parameters, grads, v, s, (i+1), learning_rate, beta1 = 0.9, beta2 = 0.999,  epsilon = 1e-8)\n",
    "        \n",
    "        if(print_cost and i % 50 == 0):\n",
    "            print(\"Cost after iteration %i: %f\" %(i, cost))\n",
    "            costs.append(cost)\n",
    "            \n",
    "    # plot the cost\n",
    "    plt.plot(np.squeeze(costs))\n",
    "    plt.ylabel('cost')\n",
    "    plt.xlabel('iterations (per tens)')\n",
    "    plt.title(\"Learning rate =\" + str(learning_rate))\n",
    "    plt.show()\n",
    "    \n",
    "    return parameters"
   ]
  },
  {
   "cell_type": "code",
   "execution_count": 90,
   "metadata": {},
   "outputs": [
    {
     "name": "stdout",
     "output_type": "stream",
     "text": [
      "Cost after iteration 0: 2.606761\n",
      "Cost after iteration 50: 1.132852\n",
      "Cost after iteration 100: 0.927450\n",
      "Cost after iteration 150: 0.815851\n",
      "Cost after iteration 200: 0.734219\n",
      "Cost after iteration 250: 0.667326\n",
      "Cost after iteration 300: 0.602178\n",
      "Cost after iteration 350: 0.526006\n"
     ]
    },
    {
     "data": {
      "image/png": "[encoded data removed]",
      "text/plain": [
       "<Figure size 432x288 with 1 Axes>"
      ]
     },
     "metadata": {},
     "output_type": "display_data"
    }
   ],
   "source": [
    "layers_dims = [14400, 20, 5, 3]\n",
    "parameters = NN_model_1(X_train, Y_train, layers_dims, learning_rate = 0.03, num_epochs=400, keep_prob = 1, lambd = 2)\n"
   ]
  },
  {
   "cell_type": "markdown",
   "metadata": {},
   "source": [
    "## Function: predict"
   ]
  },
  {
   "cell_type": "code",
   "execution_count": 19,
   "metadata": {},
   "outputs": [],
   "source": [
    "def predict(X, Y, parameters):\n",
    "    \"\"\"\n",
    "    This function makes predictions on input X using input parameters, and returns accuracy\n",
    "    \"\"\"\n",
    "    \n",
    "    AL, _ = forward_propagation(X, parameters, keep_prob = 1)\n",
    "    \n",
    "    for i in range(AL.shape[1]):\n",
    "        AL_i = AL[:, i]\n",
    "        max_prob = np.amax(AL_i)\n",
    "        AL_i[AL_i >= max_prob] = 1\n",
    "        AL_i[AL_i < max_prob] = 0\n",
    "        AL[:, i] = AL_i\n",
    "\n",
    "    correct = 0.\n",
    "    errors = []\n",
    "    \n",
    "    for i in range(Y.shape[1]):\n",
    "        if(np.array_equal(AL[:,i], Y[:,i])):\n",
    "            correct += 1\n",
    "        else:\n",
    "            errors.append((i, AL[:,i], Y[:,i]))\n",
    "            \n",
    "    accuracy = correct / Y.shape[1]\n",
    "    \n",
    "    return accuracy, errors"
   ]
  },
  {
   "cell_type": "code",
   "execution_count": 91,
   "metadata": {},
   "outputs": [
    {
     "name": "stdout",
     "output_type": "stream",
     "text": [
      "1.0\n",
      "0.725\n",
      "0.675\n"
     ]
    }
   ],
   "source": [
    "accuracy_train, errors_train = predict(X_train, Y_train, parameters)\n",
    "accuracy_dev, errors_dev = predict(X_dev, Y_dev, parameters)\n",
    "accuracy_test, errors_test = predict(X_test, Y_test, parameters)\n",
    "print(accuracy_train)\n",
    "print(accuracy_dev)\n",
    "print(accuracy_test)"
   ]
  },
  {
   "cell_type": "code",
   "execution_count": 49,
   "metadata": {},
   "outputs": [],
   "source": [
    "for i in range(len(errors_train)):\n",
    "    print(\"index: \" + str(errors_train[i][0]))\n",
    "    print(\"predicted: \" + str(errors_train[i][1]))\n",
    "    print(\"correct: \" + str(errors_train[i][2]))"
   ]
  },
  {
   "cell_type": "code",
   "execution_count": 79,
   "metadata": {},
   "outputs": [
    {
     "name": "stdout",
     "output_type": "stream",
     "text": [
      "index: 325\n",
      "predicted: [0. 1. 0.]\n",
      "correct: [1. 0. 0.]\n",
      "index: 327\n",
      "predicted: [0. 1. 0.]\n",
      "correct: [1. 0. 0.]\n",
      "index: 328\n",
      "predicted: [0. 1. 0.]\n",
      "correct: [1. 0. 0.]\n",
      "index: 329\n",
      "predicted: [0. 1. 0.]\n",
      "correct: [0. 0. 1.]\n",
      "index: 333\n",
      "predicted: [0. 1. 0.]\n",
      "correct: [1. 0. 0.]\n",
      "index: 337\n",
      "predicted: [0. 1. 0.]\n",
      "correct: [0. 0. 1.]\n",
      "index: 339\n",
      "predicted: [0. 1. 0.]\n",
      "correct: [1. 0. 0.]\n",
      "index: 348\n",
      "predicted: [0. 1. 0.]\n",
      "correct: [1. 0. 0.]\n",
      "index: 351\n",
      "predicted: [0. 1. 0.]\n",
      "correct: [0. 0. 1.]\n",
      "index: 353\n",
      "predicted: [0. 1. 0.]\n",
      "correct: [0. 0. 1.]\n",
      "index: 355\n",
      "predicted: [0. 1. 0.]\n",
      "correct: [1. 0. 0.]\n",
      "index: 357\n",
      "predicted: [0. 1. 0.]\n",
      "correct: [1. 0. 0.]\n"
     ]
    }
   ],
   "source": [
    "for i in range(len(errors_dev)):\n",
    "    print(\"index: \" + str(320 + errors_dev[i][0]))\n",
    "    print(\"predicted: \" + str(errors_dev[i][1]))\n",
    "    print(\"correct: \" + str(errors_dev[i][2]))"
   ]
  },
  {
   "cell_type": "code",
   "execution_count": 78,
   "metadata": {},
   "outputs": [
    {
     "name": "stdout",
     "output_type": "stream",
     "text": [
      "index: 360\n",
      "predicted: [0. 1. 0.]\n",
      "correct: [0. 0. 1.]\n",
      "index: 362\n",
      "predicted: [1. 0. 0.]\n",
      "correct: [0. 1. 0.]\n",
      "index: 366\n",
      "predicted: [0. 1. 0.]\n",
      "correct: [0. 0. 1.]\n",
      "index: 368\n",
      "predicted: [0. 1. 0.]\n",
      "correct: [0. 0. 1.]\n",
      "index: 373\n",
      "predicted: [0. 1. 0.]\n",
      "correct: [0. 0. 1.]\n",
      "index: 376\n",
      "predicted: [0. 1. 0.]\n",
      "correct: [0. 0. 1.]\n",
      "index: 378\n",
      "predicted: [0. 1. 0.]\n",
      "correct: [0. 0. 1.]\n",
      "index: 381\n",
      "predicted: [0. 1. 0.]\n",
      "correct: [0. 0. 1.]\n",
      "index: 382\n",
      "predicted: [0. 1. 0.]\n",
      "correct: [0. 0. 1.]\n",
      "index: 383\n",
      "predicted: [0. 1. 0.]\n",
      "correct: [1. 0. 0.]\n",
      "index: 386\n",
      "predicted: [0. 1. 0.]\n",
      "correct: [1. 0. 0.]\n",
      "index: 388\n",
      "predicted: [0. 1. 0.]\n",
      "correct: [0. 0. 1.]\n",
      "index: 389\n",
      "predicted: [0. 1. 0.]\n",
      "correct: [0. 0. 1.]\n",
      "index: 394\n",
      "predicted: [0. 1. 0.]\n",
      "correct: [1. 0. 0.]\n",
      "index: 397\n",
      "predicted: [0. 1. 0.]\n",
      "correct: [1. 0. 0.]\n",
      "index: 399\n",
      "predicted: [0. 1. 0.]\n",
      "correct: [0. 0. 1.]\n"
     ]
    }
   ],
   "source": [
    "for i in range(len(errors_test)):\n",
    "    print(\"index: \" + str(360 + errors_test[i][0]))\n",
    "    print(\"predicted: \" + str(errors_test[i][1]))\n",
    "    print(\"correct: \" + str(errors_test[i][2]))"
   ]
  },
  {
   "cell_type": "code",
   "execution_count": null,
   "metadata": {},
   "outputs": [],
   "source": []
  }
 ],
 "metadata": {
  "kernelspec": {
   "display_name": "Python 3",
   "language": "python",
   "name": "python3"
  },
  "language_info": {
   "codemirror_mode": {
    "name": "ipython",
    "version": 3
   },
   "file_extension": ".py",
   "mimetype": "text/x-python",
   "name": "python",
   "nbconvert_exporter": "python",
   "pygments_lexer": "ipython3",
   "version": "3.6.5"
  }
 },
 "nbformat": 4,
 "nbformat_minor": 2
}
